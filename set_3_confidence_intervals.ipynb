{
 "cells": [
  {
   "cell_type": "code",
   "execution_count": 1,
   "id": "797fc6c0",
   "metadata": {},
   "outputs": [],
   "source": [
    "# 1.a\n",
    "# False. While in some cases it may work, but the sample \n",
    "# size have to be random and how well it captures the data\n",
    "# which is representative of population.\n",
    "\n",
    "# 1.b\n",
    "# To be representative of population data can not be non-responsive.\n",
    "# It must accuretly tell about the population. So sampling frame should\n",
    "# not contain those who did not responded.\n",
    "\n",
    "# 1.c\n",
    "# It satisfies sample size criteria. But to be more accurate the survey \n",
    "# needs to be conducted random places and representative targets are covered.\n",
    "# then in that case it is true."
   ]
  },
  {
   "cell_type": "code",
   "execution_count": 2,
   "id": "79d0d9a6",
   "metadata": {},
   "outputs": [],
   "source": [
    "# 2.\n",
    "# Population: The population here is consumers of Kodak compact digital camera.\n",
    "# Parameter of interest: Satisfaction rating of Kodak Digital Camera\n",
    "# The samplling frame: Readers of PC Magazine.\n",
    "# Sample size = 225; because this much reader participated\n",
    "# sampling design: This sample design seems to rely on PC magazine readers reviews on \n",
    "# kodak compact digital camrera to draw population conclusion.\n",
    "# Potential bias:\n",
    "# It is only bised to PC Magazine readers ignoring generalise consumers.\n",
    "# The sample size seems to be less as more sample will give accurate results.\n",
    "\n"
   ]
  },
  {
   "cell_type": "code",
   "execution_count": 3,
   "id": "ccf49c89",
   "metadata": {},
   "outputs": [],
   "source": [
    "# 3.\n",
    "\n",
    "# a.True. With confidence interval of 95% and range 50 to 110, it is plasible \n",
    "# to say that 100 population mean at this level of confidence.\n",
    "\n",
    "# b. False. As it does not specify which portion of the 95 confidence interval.\n",
    "\n",
    "# c.False.According to central limit theorem irrespective of population distribution\n",
    "# the sample data will be normally distributed if the sample size is large.\n",
    "# to draw a confidence interval sample size needs to be greater than 30."
   ]
  },
  {
   "cell_type": "code",
   "execution_count": 5,
   "id": "9b244cfd",
   "metadata": {},
   "outputs": [],
   "source": [
    "# 4.\n",
    "\n",
    "# chances of population mean is greater than sample mean is 0.5."
   ]
  },
  {
   "cell_type": "code",
   "execution_count": 1,
   "id": "7f86e7ab",
   "metadata": {},
   "outputs": [],
   "source": [
    "# 5\n",
    "\n",
    "# a. 0.0368 – 0.0551\n",
    "\n",
    "\n",
    "# b.In this case, we have data on the entire population and \n",
    "# the sample value accurately reflects the population number. \n",
    "# Thus, we can conclude that the share is the less than 5%."
   ]
  },
  {
   "cell_type": "code",
   "execution_count": 3,
   "id": "35821fd3",
   "metadata": {},
   "outputs": [
    {
     "data": {
      "text/plain": [
       "array([161.8, 338.2])"
      ]
     },
     "execution_count": 3,
     "metadata": {},
     "output_type": "execute_result"
    }
   ],
   "source": [
    "# 6.a\n",
    "\n",
    "import scipy.stats as st\n",
    "import numpy as np\n",
    "\n",
    "print(np.round(st.norm.interval(0.95,250,45),2))\n",
    "# as for 95% CI the range is from [161.8, 338.2]. So, the statement is false.\n",
    "\n",
    "# 6.b\n",
    "# Incorect. As the range does not align with 95% interval.\n",
    "\n",
    "# 6.c\n",
    "# False. As 95% CI denotes population mean ranges not 95% of the \n",
    "# sample.\n",
    "\n",
    "# 6.d\n",
    "# False. Because each sample is different, the results could differ \n",
    "# based on its values.\n",
    "\n",
    "# 6.e\n",
    "# True. As it is approximately close to our results.\n"
   ]
  },
  {
   "cell_type": "code",
   "execution_count": 4,
   "id": "14212f41",
   "metadata": {},
   "outputs": [],
   "source": [
    "# 7. The z-interval is shorter."
   ]
  },
  {
   "cell_type": "code",
   "execution_count": 10,
   "id": "72f6f23b",
   "metadata": {},
   "outputs": [
    {
     "ename": "SyntaxError",
     "evalue": "unterminated string literal (detected at line 19) (539239067.py, line 19)",
     "output_type": "error",
     "traceback": [
      "\u001b[1;36m  Cell \u001b[1;32mIn[10], line 19\u001b[1;36m\u001b[0m\n\u001b[1;33m    print(f\"{sample_size(z_98,p,e_9)}\"\")\u001b[0m\n\u001b[1;37m                                      ^\u001b[0m\n\u001b[1;31mSyntaxError\u001b[0m\u001b[1;31m:\u001b[0m unterminated string literal (detected at line 19)\n"
     ]
    }
   ],
   "source": [
    "# 8\n",
    "\n",
    "import math\n",
    "\n",
    "def sample_size(z,p,E):\n",
    "    return math.ceil((z**2 * p * (1-p)) / E**2)\n",
    "\n",
    "z = 1.96\n",
    "p = 0.5\n",
    "e_8 = 0.04\n",
    "\n",
    "print(f\"{sample_size(z,p,e_8)}\")\n",
    "# The ans is A.\n",
    "\n",
    "# 9\n",
    "z_98 = 2.33\n",
    "e_9 = 0.04\n",
    "\n",
    "print(f\"{sample_size(z_98,p,e_9)}\"\")"
   ]
  },
  {
   "cell_type": "code",
   "execution_count": null,
   "id": "41df6946",
   "metadata": {},
   "outputs": [],
   "source": []
  }
 ],
 "metadata": {
  "kernelspec": {
   "display_name": "Python 3 (ipykernel)",
   "language": "python",
   "name": "python3"
  },
  "language_info": {
   "codemirror_mode": {
    "name": "ipython",
    "version": 3
   },
   "file_extension": ".py",
   "mimetype": "text/x-python",
   "name": "python",
   "nbconvert_exporter": "python",
   "pygments_lexer": "ipython3",
   "version": "3.10.9"
  }
 },
 "nbformat": 4,
 "nbformat_minor": 5
}
